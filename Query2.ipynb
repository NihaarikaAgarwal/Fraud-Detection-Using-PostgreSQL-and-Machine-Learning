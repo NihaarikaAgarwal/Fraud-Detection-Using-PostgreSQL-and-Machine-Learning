{
 "cells": [
  {
   "cell_type": "code",
   "execution_count": 20,
   "id": "d8e9182d-7391-4cf9-925f-37ebccc5dfaf",
   "metadata": {},
   "outputs": [],
   "source": [
    "import torch\n",
    "import torch.nn as nn\n",
    "from torchvision import models, transforms\n",
    "from PIL import Image\n",
    "import os\n",
    "import time\n",
    "\n",
    "# Load the correct ResNet18 classifier: 2-class model\n",
    "model = models.resnet18(pretrained=False)\n",
    "model.fc = nn.Sequential(\n",
    "    nn.Dropout(0.5),\n",
    "    nn.Linear(model.fc.in_features, 2)  # ✅ match saved model output\n",
    ")\n",
    "\n",
    "# Load your trained weights\n",
    "model.load_state_dict(torch.load(\"fraud_type_classification_resnet18_10.pth\", map_location=\"cpu\"))\n",
    "model.eval()\n",
    "\n",
    "# Define transform (no augmentation for inference)\n",
    "inference_transform = transforms.Compose([\n",
    "    transforms.Resize((224, 224)),\n",
    "    transforms.ToTensor(),\n",
    "    transforms.Normalize(mean=[0.485, 0.456, 0.406],\n",
    "                         std=[0.229, 0.224, 0.225])\n",
    "])"
   ]
  },
  {
   "cell_type": "code",
   "execution_count": 21,
   "id": "49d41291-e31c-4788-960d-c48db7a81616",
   "metadata": {},
   "outputs": [],
   "source": [
    "def infer_from_path(image_path: str) -> int:\n",
    "    try:\n",
    "        image = Image.open(image_path).convert(\"RGB\")\n",
    "        image = inference_transform(image).unsqueeze(0)  # shape: [1, 3, 224, 224]\n",
    "        with torch.no_grad():\n",
    "            output = model(image)\n",
    "            prediction = torch.argmax(output, dim=1).item()\n",
    "        return prediction\n",
    "    except Exception as e:\n",
    "        print(f\"Failed on {image_path}: {e}\")\n",
    "        return -1  # error"
   ]
  },
  {
   "cell_type": "code",
   "execution_count": 22,
   "id": "30502372-7ba2-464c-8b97-d099018e66d9",
   "metadata": {},
   "outputs": [],
   "source": [
    "from pyspark.sql import SparkSession\n",
    "from pyspark.sql.functions import udf\n",
    "from pyspark.sql.types import StringType, IntegerType\n",
    "\n",
    "spark = SparkSession.builder.appName(\"FraudImagePrediction\").getOrCreate()\n",
    "\n",
    "# Point to your folder of .jpg/.png images\n",
    "image_folder = \"/home/itewari1/DISML/Query Execution/heavy_test_query2/\"\n",
    "\n",
    "# Get list of valid image file paths\n",
    "image_files = [os.path.join(image_folder, f) for f in os.listdir(image_folder)\n",
    "               if f.lower().endswith(('.png', '.jpg', '.jpeg'))]\n",
    "\n",
    "# print(f\"Found {len(image_files)} image files:\")\n",
    "# print(image_files[:5])\n",
    "\n",
    "# Load image paths into Spark DataFrame\n",
    "df = spark.createDataFrame([(f,) for f in image_files], [\"image_path\"])"
   ]
  },
  {
   "cell_type": "code",
   "execution_count": 23,
   "id": "52c4566c-1741-4a34-ac19-8c0801b6d957",
   "metadata": {},
   "outputs": [
    {
     "name": "stderr",
     "output_type": "stream",
     "text": [
      "[Stage 9:=============================>                             (4 + 4) / 8]"
     ]
    },
    {
     "name": "stdout",
     "output_type": "stream",
     "text": [
      "+---------------+-----+\n",
      "|predicted_class|count|\n",
      "+---------------+-----+\n",
      "|              1| 2656|\n",
      "|              0| 2344|\n",
      "+---------------+-----+\n",
      "\n",
      "\n",
      " Total images: 5000\n",
      " Total inference time: 40.74 seconds\n",
      " Avg latency per image: 0.0081 seconds/image\n"
     ]
    },
    {
     "name": "stderr",
     "output_type": "stream",
     "text": [
      "                                                                                "
     ]
    }
   ],
   "source": [
    "# Count number of input images\n",
    "num_images = df.count()\n",
    "\n",
    "# Register your Python function as a Spark UDF\n",
    "infer_fraud_type_udf = udf(infer_from_path, IntegerType())\n",
    "\n",
    "# Start timer\n",
    "start_time = time.time()\n",
    "\n",
    "# Add prediction column\n",
    "df_predicted = df.withColumn(\"predicted_class\", infer_fraud_type_udf(df[\"image_path\"]))\n",
    "df_predicted.groupBy(\"predicted_class\").count().show()\n",
    "\n",
    "# End timer\n",
    "end_time = time.time()\n",
    "\n",
    "# Calculate latency\n",
    "total_time = end_time - start_time\n",
    "latency_per_image = total_time / num_images if num_images > 0 else 0\n",
    "\n",
    "# Print metrics\n",
    "print(f\"\\n Total images: {num_images}\")\n",
    "print(f\" Total inference time: {total_time:.2f} seconds\")\n",
    "print(f\" Avg latency per image: {latency_per_image:.4f} seconds/image\")"
   ]
  },
  {
   "cell_type": "code",
   "execution_count": null,
   "id": "18d76947-d07d-4229-a057-39d2f1920975",
   "metadata": {},
   "outputs": [],
   "source": []
  }
 ],
 "metadata": {
  "kernelspec": {
   "display_name": "Python 3",
   "language": "python",
   "name": "python3"
  },
  "language_info": {
   "codemirror_mode": {
    "name": "ipython",
    "version": 3
   },
   "file_extension": ".py",
   "mimetype": "text/x-python",
   "name": "python",
   "nbconvert_exporter": "python",
   "pygments_lexer": "ipython3",
   "version": "3.12.9"
  }
 },
 "nbformat": 4,
 "nbformat_minor": 5
}
